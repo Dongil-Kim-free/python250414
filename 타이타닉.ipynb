{
 "cells": [
  {
   "cell_type": "markdown",
   "id": "982e3365",
   "metadata": {},
   "source": [
    "# 필요한 라이브러리 가져오기\n",
    "pandas, matplotlib, seaborn과 같은 라이브러리를 가져옵니다."
   ]
  },
  {
   "cell_type": "code",
   "execution_count": null,
   "id": "b519d0cc",
   "metadata": {},
   "outputs": [],
   "source": [
    "# 필요한 라이브러리 가져오기\n",
    "import pandas as pd\n",
    "import matplotlib.pyplot as plt\n",
    "import seaborn as sns"
   ]
  },
  {
   "cell_type": "markdown",
   "id": "9255ca4d",
   "metadata": {},
   "source": [
    "# Titanic 데이터셋 다운로드 및 로드\n",
    "Titanic 데이터셋(titanic.csv)을 URL에서 다운로드하고 pandas DataFrame으로 로드합니다."
   ]
  },
  {
   "cell_type": "code",
   "execution_count": null,
   "id": "157858a2",
   "metadata": {},
   "outputs": [],
   "source": [
    "# Titanic 데이터셋 다운로드 및 로드\n",
    "url = \"https://raw.githubusercontent.com/datasciencedojo/datasets/master/titanic.csv\"\n",
    "titanic_data = pd.read_csv(url)\n",
    "titanic_data.head()"
   ]
  },
  {
   "cell_type": "markdown",
   "id": "5dfc0df7",
   "metadata": {},
   "source": [
    "# 데이터셋 탐색\n",
    "데이터셋의 구조를 이해하기 위해 기본적인 탐색적 데이터 분석(EDA)을 수행합니다. 여기에는 결측값 확인 및 주요 열 검사 등이 포함됩니다."
   ]
  },
  {
   "cell_type": "code",
   "execution_count": null,
   "id": "1808af69",
   "metadata": {},
   "outputs": [],
   "source": [
    "# 데이터셋 탐색\n",
    "# 결측값 확인\n",
    "missing_values = titanic_data.isnull().sum()\n",
    "print(\"결측값:\\n\", missing_values)\n",
    "\n",
    "# 주요 열 검사\n",
    "print(\"\\n데이터셋 정보:\")\n",
    "print(titanic_data.info())\n",
    "\n",
    "print(\"\\n요약 통계:\")\n",
    "print(titanic_data.describe())"
   ]
  },
  {
   "cell_type": "markdown",
   "id": "6b9e72d3",
   "metadata": {},
   "source": [
    "# 성별에 따른 생존율 계산\n",
    "데이터를 성별로 그룹화하고 남성과 여성의 생존율을 계산합니다."
   ]
  },
  {
   "cell_type": "code",
   "execution_count": null,
   "id": "c39780c7",
   "metadata": {},
   "outputs": [],
   "source": [
    "# 성별에 따른 생존율 계산\n",
    "survival_rates = titanic_data.groupby(\"Sex\")[\"Survived\"].mean()\n",
    "print(\"성별에 따른 생존율:\\n\", survival_rates)"
   ]
  },
  {
   "cell_type": "markdown",
   "id": "6117833f",
   "metadata": {},
   "source": [
    "# 성별에 따른 생존율 시각화\n",
    "matplotlib 또는 seaborn을 사용하여 남성과 여성의 생존율을 보여주는 막대 그래프를 생성합니다."
   ]
  },
  {
   "cell_type": "code",
   "execution_count": null,
   "id": "73202ddf",
   "metadata": {},
   "outputs": [],
   "source": [
    "# 성별에 따른 생존율 시각화\n",
    "plt.figure(figsize=(8, 6))\n",
    "sns.barplot(x=survival_rates.index, y=survival_rates.values, palette=\"viridis\")\n",
    "plt.title(\"성별에 따른 생존율\")\n",
    "plt.xlabel(\"성별\")\n",
    "plt.ylabel(\"생존율\")\n",
    "plt.show()"
   ]
  }
 ],
 "metadata": {
  "language_info": {
   "name": "python"
  }
 },
 "nbformat": 4,
 "nbformat_minor": 5
}
